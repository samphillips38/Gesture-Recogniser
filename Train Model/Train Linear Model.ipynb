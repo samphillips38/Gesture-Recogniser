{
 "cells": [
  {
   "cell_type": "code",
   "execution_count": 1,
   "id": "b8c91a90",
   "metadata": {},
   "outputs": [],
   "source": [
    "import numpy as np\n",
    "import matplotlib.pyplot as plt\n",
    "import pyomo.environ as pyo\n",
    "from mpl_toolkits import mplot3d\n",
    "from useful import get_data, SVM_linear, SVM_nonlinear, get_features"
   ]
  },
  {
   "cell_type": "code",
   "execution_count": 2,
   "id": "2cdada42",
   "metadata": {},
   "outputs": [],
   "source": [
    "up_data, up_time = get_data(\"up_data.txt\")\n",
    "circle_data, circle_time = get_data(\"circle_data.txt\")\n",
    "left_data, left_time = get_data(\"left_data.txt\")\n",
    "data = np.array([*up_data, *circle_data, *left_data]).T\n",
    "time_array = np.array([*up_time, *circle_time, *left_time]).T\n",
    "\n",
    "(d, N) = time_array.shape\n",
    "N_h = N//3"
   ]
  },
  {
   "cell_type": "code",
   "execution_count": 3,
   "id": "39110740",
   "metadata": {},
   "outputs": [
    {
     "name": "stdout",
     "output_type": "stream",
     "text": [
      "(300, 165)\n"
     ]
    }
   ],
   "source": [
    "# Condense and format feature data\n",
    "X = get_features(data, time_array)\n",
    "up_t = np.array([*[-1]*N_h, *[1]*N_h, *[1]*N_h])\n",
    "circle_t = np.array([*[1]*N_h, *[-1]*N_h, *[1]*N_h])\n",
    "left_t = np.array([*[1]*N_h, *[1]*N_h, *[-1]*N_h])\n",
    "print(X.shape)"
   ]
  },
  {
   "cell_type": "code",
   "execution_count": 9,
   "id": "f9e0b98b",
   "metadata": {},
   "outputs": [],
   "source": [
    "# Learn SVM\n",
    "C = 10\n",
    "up_w, up_b, up_svi = SVM_linear(X, up_t, C=C)\n",
    "circle_w, circle_b, circle_svi = SVM_linear(X, circle_t, C=C)\n",
    "left_w, left_b, left_svi = SVM_linear(X, left_t, C=C)\n",
    "# print(\"up_w = \", circle_w[0].tolist())\n",
    "# print(\"b = \", circle_b)"
   ]
  },
  {
   "cell_type": "code",
   "execution_count": 5,
   "id": "ac101b4c",
   "metadata": {},
   "outputs": [],
   "source": [
    "def test_SVM(X, t, w, b):\n",
    "    (N, d) = X.shape\n",
    "    y = np.dot(w, X.T) + b\n",
    "    # for i in range(N):\n",
    "    #     print(\"Outcome: \", y[0, i]*t[i])\n",
    "    errors = [1 if y[i]*t[i] < 0 else 0 for i in range(N)]\n",
    "    print(\"Samples Tested: \", N)\n",
    "    print(\"Total Errors: \", sum(errors))\n",
    "    print(\"Accuracy: \", (N - sum(errors))/N)"
   ]
  },
  {
   "cell_type": "code",
   "execution_count": 6,
   "id": "93d99219",
   "metadata": {},
   "outputs": [
    {
     "name": "stdout",
     "output_type": "stream",
     "text": [
      "Up Test: \n",
      "Samples Tested:  300\n",
      "Total Errors:  0\n",
      "Accuracy:  1.0\n",
      "\n",
      "Circle Test: \n",
      "Samples Tested:  300\n",
      "Total Errors:  0\n",
      "Accuracy:  1.0\n",
      "\n",
      "Left Test: \n",
      "Samples Tested:  300\n",
      "Total Errors:  27\n",
      "Accuracy:  0.91\n"
     ]
    }
   ],
   "source": [
    "print(\"Up Test: \")\n",
    "test_SVM(X, up_t, up_w, up_b)\n",
    "print(\"\\nCircle Test: \" )\n",
    "test_SVM(X, circle_t, circle_w, circle_b)\n",
    "print(\"\\nLeft Test: \" )\n",
    "test_SVM(X, left_t, left_w, left_b)"
   ]
  },
  {
   "cell_type": "code",
   "execution_count": 7,
   "id": "562a2524",
   "metadata": {},
   "outputs": [],
   "source": [
    "up_test_data, up_time = get_data(\"up_test_data.txt\")\n",
    "circle_test_data, circle_time = get_data(\"circle_test_data.txt\")\n",
    "left_test_data, left_time = get_data(\"left_test_data.txt\")\n",
    "test_data = np.array([*up_test_data, *circle_test_data, *left_test_data]).T\n",
    "test_time_array = np.array([*up_time, *circle_time, *left_time]).T\n",
    "\n",
    "(test_d, test_N) = test_time_array.shape\n",
    "test_N_h = test_N//3\n",
    "\n",
    "test_up_t = np.array([*[-1]*test_N_h, *[1]*test_N_h, *[1]*test_N_h])\n",
    "test_circle_t = np.array([*[1]*test_N_h, *[-1]*test_N_h, *[1]*test_N_h])\n",
    "test_left_t = np.array([*[1]*test_N_h, *[1]*test_N_h, *[-1]*test_N_h])"
   ]
  },
  {
   "cell_type": "code",
   "execution_count": 8,
   "id": "34797b37",
   "metadata": {},
   "outputs": [
    {
     "name": "stdout",
     "output_type": "stream",
     "text": [
      "Up Test: \n",
      "Samples Tested:  225\n",
      "Total Errors:  9\n",
      "Accuracy:  0.96\n",
      "Circle Test: \n",
      "Samples Tested:  225\n",
      "Total Errors:  76\n",
      "Accuracy:  0.6622222222222223\n",
      "Left Test: \n",
      "Samples Tested:  225\n",
      "Total Errors:  115\n",
      "Accuracy:  0.4888888888888889\n"
     ]
    }
   ],
   "source": [
    "X_test = get_features(test_data, test_time_array)\n",
    "print(\"Up Test: \")\n",
    "test_SVM(X_test, test_up_t, up_w, up_b)\n",
    "print(\"Circle Test: \")\n",
    "test_SVM(X_test, test_circle_t, circle_w, circle_b)\n",
    "print(\"Left Test: \")\n",
    "test_SVM(X_test, test_left_t, left_w, left_b)"
   ]
  },
  {
   "cell_type": "code",
   "execution_count": null,
   "id": "a0ee6433",
   "metadata": {},
   "outputs": [],
   "source": []
  }
 ],
 "metadata": {
  "kernelspec": {
   "display_name": "Python 3.7.12 ('random')",
   "language": "python",
   "name": "python3"
  },
  "language_info": {
   "codemirror_mode": {
    "name": "ipython",
    "version": 3
   },
   "file_extension": ".py",
   "mimetype": "text/x-python",
   "name": "python",
   "nbconvert_exporter": "python",
   "pygments_lexer": "ipython3",
   "version": "3.7.12"
  },
  "vscode": {
   "interpreter": {
    "hash": "7d58fe848b22f73abee5b73fe176e2c7bff36db68bdbe90b5ed29a5147664d2e"
   }
  }
 },
 "nbformat": 4,
 "nbformat_minor": 5
}
